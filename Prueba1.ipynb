{
  "nbformat": 4,
  "nbformat_minor": 0,
  "metadata": {
    "colab": {
      "name": "Untitled1.ipynb",
      "provenance": [],
      "authorship_tag": "ABX9TyNUAdIz1zBN8/hHaVWdcgvO",
      "include_colab_link": true
    },
    "kernelspec": {
      "name": "python3",
      "display_name": "Python 3"
    }
  },
  "cells": [
    {
      "cell_type": "markdown",
      "metadata": {
        "id": "view-in-github",
        "colab_type": "text"
      },
      "source": [
        "<a href=\"https://colab.research.google.com/github/chrisguti27/Notebooks/blob/main/Prueba1.ipynb\" target=\"_parent\"><img src=\"https://colab.research.google.com/assets/colab-badge.svg\" alt=\"Open In Colab\"/></a>"
      ]
    },
    {
      "cell_type": "markdown",
      "metadata": {
        "id": "Ln636jisRZsO"
      },
      "source": [
        "**Este es un ejercicio de prueba**"
      ]
    },
    {
      "cell_type": "code",
      "metadata": {
        "id": "SL5qtGmj1PMO",
        "colab": {
          "base_uri": "https://localhost:8080/"
        },
        "outputId": "9026d7ef-6ec0-4def-e3a4-71f0fe756e3c"
      },
      "source": [
        "print(\"hola mundo\")"
      ],
      "execution_count": 1,
      "outputs": [
        {
          "output_type": "stream",
          "text": [
            "hola mundo\n"
          ],
          "name": "stdout"
        }
      ]
    }
  ]
}