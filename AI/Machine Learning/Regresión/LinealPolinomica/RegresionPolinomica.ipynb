{
  "nbformat": 4,
  "nbformat_minor": 0,
  "metadata": {
    "colab": {
      "name": "RegresionPolinomica.ipynb",
      "provenance": [],
      "authorship_tag": "ABX9TyMZ1WnGj1W4bS4PUr41LB1d",
      "include_colab_link": true
    },
    "kernelspec": {
      "name": "python3",
      "display_name": "Python 3"
    },
    "language_info": {
      "name": "python"
    }
  },
  "cells": [
    {
      "cell_type": "markdown",
      "metadata": {
        "id": "view-in-github",
        "colab_type": "text"
      },
      "source": [
        "<a href=\"https://colab.research.google.com/github/chrisguti27/Notebooks/blob/main/AI/Machine%20Learning/Regresi%C3%B3n/LinealPolinomica/RegresionPolinomica.ipynb\" target=\"_parent\"><img src=\"https://colab.research.google.com/assets/colab-badge.svg\" alt=\"Open In Colab\"/></a>"
      ]
    },
    {
      "cell_type": "code",
      "metadata": {
        "id": "RtxeOGcFurkN",
        "colab": {
          "base_uri": "https://localhost:8080/"
        },
        "outputId": "f9960ba5-e25f-4f5e-f138-9bab2fb3c9bc"
      },
      "source": [
        "!cd ..\n",
        "!ls\n",
        "!git clone https://github.com/chrisguti27/Notebooks.git"
      ],
      "execution_count": null,
      "outputs": [
        {
          "output_type": "stream",
          "text": [
            "sample_data\n",
            "Cloning into 'Notebooks'...\n",
            "remote: Enumerating objects: 280, done.\u001b[K\n",
            "remote: Counting objects: 100% (280/280), done.\u001b[K\n",
            "remote: Compressing objects: 100% (215/215), done.\u001b[K\n",
            "remote: Total 280 (delta 35), reused 0 (delta 0), pack-reused 0\u001b[K\n",
            "Receiving objects: 100% (280/280), 99.73 KiB | 3.83 MiB/s, done.\n",
            "Resolving deltas: 100% (35/35), done.\n"
          ],
          "name": "stdout"
        }
      ]
    },
    {
      "cell_type": "markdown",
      "metadata": {
        "id": "UbqUSTv2w4oy"
      },
      "source": [
        "**REGRESIÓN LINEAL POLINÓMICA**"
      ]
    },
    {
      "cell_type": "markdown",
      "metadata": {
        "id": "H0tvmehe1Kue"
      },
      "source": [
        "El modelo de regresión lineal ajusta el dataset al modelo de la forma:\n",
        "\n",
        "$y = b_0 + b_1 \\cdot x_1 + b_2 \\cdot x_1^2 + \\cdots + b_n \\cdot x_1^n$\n",
        "\n",
        "* El grado del polinomio es dado por el usuario, según se ajuste la curva al comportamiento del dataset."
      ]
    },
    {
      "cell_type": "code",
      "metadata": {
        "id": "J8y7OUt1w5RJ"
      },
      "source": [
        "import numpy as np\n",
        "import matplotlib.pyplot as plt\n",
        "import pandas as pd \n",
        "\n",
        "#-----------------IMPORT DATASET-----------------\n",
        "\n",
        "dataset = pd.read_csv('/content/Notebooks/AI/Machine Learning/Regresión/LinealPolinomica/Position_Salaries.csv')\n",
        "X = dataset.iloc[:,1:2].values \n",
        "Y = dataset.iloc[:,2].values"
      ],
      "execution_count": null,
      "outputs": []
    },
    {
      "cell_type": "markdown",
      "metadata": {
        "id": "xagSb-z40K4-"
      },
      "source": [
        "Al ser un dataset de pocos datos no tiene sentido dividir el dataset en conjunto de datos de entranamiento y test. Esto sólo se hace debido a la baja cantidad de datos."
      ]
    },
    {
      "cell_type": "code",
      "metadata": {
        "id": "spMvM_cK0ZDs",
        "colab": {
          "base_uri": "https://localhost:8080/"
        },
        "outputId": "70ab0147-938f-46fc-ca8e-fb361133c28d"
      },
      "source": [
        "#Ajustar la regresión lineal con el dataset\n",
        "from sklearn.linear_model import LinearRegression\n",
        "\n",
        "Lin_reg = LinearRegression()\n",
        "Lin_reg.fit(X, Y)"
      ],
      "execution_count": null,
      "outputs": [
        {
          "output_type": "execute_result",
          "data": {
            "text/plain": [
              "LinearRegression(copy_X=True, fit_intercept=True, n_jobs=None, normalize=False)"
            ]
          },
          "metadata": {},
          "execution_count": 5
        }
      ]
    },
    {
      "cell_type": "code",
      "metadata": {
        "colab": {
          "base_uri": "https://localhost:8080/"
        },
        "id": "zaxJDRSFQ5L-",
        "outputId": "1f886788-dfe1-4aaf-8366-ea7f9c320b0c"
      },
      "source": [
        "#Ajustar la regresión polinómica con el dataset\n",
        "from sklearn.preprocessing import PolynomialFeatures\n",
        "Poly_reg = PolynomialFeatures(degree = 2) #por defecto genera un pol. de grado 2\n",
        "X_poly = Poly_reg.fit_transform(X) #se calculan las potencias de X, \n",
        "                                    #en este caso (de X^0 a X^2)\n",
        "lin_reg_2 = LinearRegression() #la misma clase para la regresión polinómica\n",
        "lin_reg_2.fit(X_poly, Y)"
      ],
      "execution_count": null,
      "outputs": [
        {
          "output_type": "execute_result",
          "data": {
            "text/plain": [
              "LinearRegression(copy_X=True, fit_intercept=True, n_jobs=None, normalize=False)"
            ]
          },
          "metadata": {},
          "execution_count": 10
        }
      ]
    },
    {
      "cell_type": "code",
      "metadata": {
        "colab": {
          "base_uri": "https://localhost:8080/",
          "height": 296
        },
        "id": "OBkJhwc0StcH",
        "outputId": "4926f2c2-3a18-4915-e54e-8ab3935a5584"
      },
      "source": [
        "#Visualización de los resultados del modelo lineal\n",
        "plt.scatter(X, Y, color = \"red\")\n",
        "plt.plot(X, Lin_reg.predict(X), color = \"blue\")\n",
        "plt.title(\"Modelo de Regresión Lineal\")\n",
        "plt.xlabel(\"Posición del empleado\")\n",
        "plt.ylabel(\"Sueldo (en $)\")\n",
        "plt.show()"
      ],
      "execution_count": null,
      "outputs": [
        {
          "output_type": "display_data",
          "data": {
            "image/png": "[encoded data removed]",
            "text/plain": [
              "<Figure size 432x288 with 1 Axes>"
            ]
          },
          "metadata": {
            "needs_background": "light"
          }
        }
      ]
    },
    {
      "cell_type": "markdown",
      "metadata": {
        "id": "dIY9ABS-V8sj"
      },
      "source": [
        "Para estimar los valores del modelo polinómico se debe usar los valores de X_poly *lin_reg_2.predict(X_poly)*"
      ]
    },
    {
      "cell_type": "code",
      "metadata": {
        "colab": {
          "base_uri": "https://localhost:8080/",
          "height": 296
        },
        "id": "mRIbl6IXT4ZG",
        "outputId": "db3db9cc-cd88-43bb-c27c-903c951c6e9a"
      },
      "source": [
        "#Visualización de los resultados del modelo polinómico\n",
        "plt.scatter(X, Y, color = \"red\")\n",
        "plt.plot(X, lin_reg_2.predict(X_poly), color = \"blue\")\n",
        "plt.plot(X, Lin_reg.predict(X), color = \"green\")\n",
        "plt.title(\"Modelo de Regresión Polinómico\")\n",
        "plt.xlabel(\"Posición del empleado\")\n",
        "plt.ylabel(\"Sueldo (en $)\")\n",
        "plt.show()"
      ],
      "execution_count": null,
      "outputs": [
        {
          "output_type": "display_data",
          "data": {
            "image/png": "[encoded data removed]",
            "text/plain": [
              "<Figure size 432x288 with 1 Axes>"
            ]
          },
          "metadata": {
            "needs_background": "light"
          }
        }
      ]
    },
    {
      "cell_type": "markdown",
      "metadata": {
        "id": "4cejcDGmXO4b"
      },
      "source": [
        "#Ajuste polinómico de grado 4"
      ]
    },
    {
      "cell_type": "code",
      "metadata": {
        "colab": {
          "base_uri": "https://localhost:8080/",
          "height": 296
        },
        "id": "dggfIQujXLfU",
        "outputId": "756292ee-bb43-4127-f5f5-28ca7703c46d"
      },
      "source": [
        "Poly_reg = PolynomialFeatures(degree = 4) \n",
        "X_poly = Poly_reg.fit_transform(X) #(de X^0 a X^3)\n",
        "lin_reg_2 = LinearRegression()\n",
        "lin_reg_2.fit(X_poly, Y)\n",
        "\n",
        "X_grid = np.arange(min(X),max(X),0.1)# para evitar que el gráfico salga a trozos\n",
        "X_grid = X_grid.reshape(len(X_grid),1)\n",
        "plt.scatter(X, Y, color = \"red\")\n",
        "plt.plot(X_grid, lin_reg_2.predict(Poly_reg.fit_transform(X_grid)), color = \"blue\")\n",
        "plt.plot(X, Lin_reg.predict(X), color = \"green\")\n",
        "plt.title(\"Modelo de Regresión Polinómico n4\")\n",
        "plt.xlabel(\"Posición del empleado\")\n",
        "plt.ylabel(\"Sueldo (en $)\")\n",
        "plt.show()"
      ],
      "execution_count": null,
      "outputs": [
        {
          "output_type": "display_data",
          "data": {
            "image/png": "[encoded data removed]",
            "text/plain": [
              "<Figure size 432x288 with 1 Axes>"
            ]
          },
          "metadata": {
            "needs_background": "light"
          }
        }
      ]
    },
    {
      "cell_type": "markdown",
      "metadata": {
        "id": "IqvCW4ohXyW-"
      },
      "source": [
        "#Predicción de modelos"
      ]
    },
    {
      "cell_type": "code",
      "metadata": {
        "colab": {
          "base_uri": "https://localhost:8080/"
        },
        "id": "qjRMMTTWZ6y0",
        "outputId": "d44f737d-557c-4ad7-c19b-fc6e7521a34a"
      },
      "source": [
        "Lin_reg.predict([[6.5]])"
      ],
      "execution_count": null,
      "outputs": [
        {
          "output_type": "execute_result",
          "data": {
            "text/plain": [
              "array([330378.78787879])"
            ]
          },
          "metadata": {},
          "execution_count": 28
        }
      ]
    },
    {
      "cell_type": "code",
      "metadata": {
        "colab": {
          "base_uri": "https://localhost:8080/"
        },
        "id": "Rz6pCIsGaoL7",
        "outputId": "3541a936-0da1-483b-e2c6-2ff845fdf352"
      },
      "source": [
        "lin_reg_2.predict(Poly_reg.fit_transform([[6.5]]))"
      ],
      "execution_count": null,
      "outputs": [
        {
          "output_type": "execute_result",
          "data": {
            "text/plain": [
              "array([158862.45265155])"
            ]
          },
          "metadata": {},
          "execution_count": 30
        }
      ]
    }
  ]
}