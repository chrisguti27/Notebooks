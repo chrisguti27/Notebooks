{
  "nbformat": 4,
  "nbformat_minor": 0,
  "metadata": {
    "colab": {
      "name": "random_forest.ipynb",
      "provenance": [],
      "authorship_tag": "ABX9TyNe/RolJtooHSIS+yecIGxB",
      "include_colab_link": true
    },
    "kernelspec": {
      "name": "python3",
      "display_name": "Python 3"
    },
    "language_info": {
      "name": "python"
    }
  },
  "cells": [
    {
      "cell_type": "markdown",
      "metadata": {
        "id": "view-in-github",
        "colab_type": "text"
      },
      "source": [
        "<a href=\"https://colab.research.google.com/github/chrisguti27/Notebooks/blob/main/Notebooks/AI/Machine%20Learning/Regresi%C3%B3n/BosquesAleatorios/random_forest.ipynb\" target=\"_parent\"><img src=\"https://colab.research.google.com/assets/colab-badge.svg\" alt=\"Open In Colab\"/></a>"
      ]
    },
    {
      "cell_type": "code",
      "metadata": {
        "id": "-NMANX_AiemN"
      },
      "source": [
        "!cd ..\n",
        "!ls\n",
        "!git clone https://github.com/chrisguti27/Notebooks.git"
      ],
      "execution_count": null,
      "outputs": []
    },
    {
      "cell_type": "markdown",
      "metadata": {
        "id": "xOdHxcOzi0jj"
      },
      "source": [
        "#Regresión con Bosques Aleatorios (Random Forest)"
      ]
    },
    {
      "cell_type": "markdown",
      "metadata": {
        "id": "WRRICk0ijwnK"
      },
      "source": [
        "Los Bosques Aleatorios forman parte de los que se denomina **Aprendizaje Profundo**.\n",
        "\n",
        "Consiste en tomar un algoritmo que realiza una tarea bien y replicarlo n-veces, en este caso los árboles de decisión, o tomar n-algoritmos diferentes y juntar el poder de todos ellos para formar un súper algoritmo.\n",
        "\n",
        "De esta manera, los bosques aleatorios constituyen una versión mejorada de los árboles de decisión, ya que como resultado mejoran la precisión de la predicción.\n",
        "\n",
        "*Tanto para regresión como para clasificación se usa el mismo enfoque de bosques aleatorios.*"
      ]
    },
    {
      "cell_type": "markdown",
      "metadata": {
        "id": "Wg0RydsIjZig"
      },
      "source": [
        "##Algoritmo"
      ]
    },
    {
      "cell_type": "markdown",
      "metadata": {
        "id": "Z9NNdBCHoAqj"
      },
      "source": [
        "1. Elegir el número de árboles aleatorio **Ntree**.\n",
        "2. Elegir el número aleatorio K de puntos de datos del conjunto de entrenamiento. (i.e., MSE, error cuadrático medio)\n",
        "3. Construir el árbol de decisión asociado a esos K puntos de datos.\n",
        "4. Comparar el número total de árboles generados y comparar con **Ntree**, si es menor que **Ntree**, repetir pasos 2 y 3.\n",
        "5. Para un nuevo punto de datos ($X$), hacer que cada uno de los **Ntree** árboles prediga el valor $Y$ para el punto en cuestión, basado en el promedio de todas las predicciones $Y$ de todos los **Ntree** árboles."
      ]
    },
    {
      "cell_type": "code",
      "metadata": {
        "id": "r0iu-YNqjCur"
      },
      "source": [
        "import numpy as np\n",
        "import matplotlib.pyplot as plt\n",
        "import pandas as pd \n",
        "\n",
        "#-----------------IMPORT DATASET-----------------\n",
        "\n",
        "dataset = pd.read_csv('/content/Notebooks/AI/Machine Learning/Regresión/BosquesAleatorios/Position_Salaries.csv')\n",
        "X = dataset.iloc[:,1:2].values \n",
        "y = dataset.iloc[:,2].values\n",
        "#como el dataset es pequeño no tiene sentido separar en training y test"
      ],
      "execution_count": 2,
      "outputs": []
    },
    {
      "cell_type": "code",
      "metadata": {
        "id": "zPUm-SYYjHGh"
      },
      "source": [
        "#-------------AJUSTAR MODELO------------------\n",
        "#*********obtener el modelo de regresión\n",
        "from sklearn.ensemble import RandomForestRegressor\n",
        "regression =  RandomForestRegressor(n_estimators = 300,random_state = 0 )# por defecto n_estimators = 100, \n",
        "#conforme se incrementa el número de árboles incrementa la precisión del modelo y a la vez el tiempo de cómputo necesario\n",
        "#https://scikit-learn.org/stable/modules/generated/sklearn.ensemble.RandomForestRegressor.html\n",
        "regression.fit(X,y)"
      ],
      "execution_count": null,
      "outputs": []
    },
    {
      "cell_type": "code",
      "metadata": {
        "colab": {
          "base_uri": "https://localhost:8080/"
        },
        "id": "WwRN6awrjKZZ",
        "outputId": "79924457-cb7f-4427-eec0-2d93f8f97f52"
      },
      "source": [
        "#----------------PREDICCIÓN-------------------\n",
        "regression.predict([[6.5]])"
      ],
      "execution_count": 11,
      "outputs": [
        {
          "output_type": "execute_result",
          "data": {
            "text/plain": [
              "array([160333.33333333])"
            ]
          },
          "metadata": {},
          "execution_count": 11
        }
      ]
    },
    {
      "cell_type": "code",
      "metadata": {
        "colab": {
          "base_uri": "https://localhost:8080/",
          "height": 296
        },
        "id": "QnYjpKVQjOXY",
        "outputId": "91eb6a4d-316e-43b3-e09d-e1990e234c07"
      },
      "source": [
        "#plot\n",
        "X_grid = np.arange(min(X),max(X),0.1)# para evitar que el gráfico salga a trozos\n",
        "X_grid = X_grid.reshape(len(X_grid),1)\n",
        "X_1 = X_grid #los X que se quieren predecir en el plot\n",
        "plt.scatter(X, y, color = \"red\")\n",
        "plt.plot(X_1, regression.predict(X_1), color = \"blue\")\n",
        "plt.title(\"Modelo de Regresión por Bosques Aleatorios\")\n",
        "plt.xlabel(\"Posición del empleado\")\n",
        "plt.ylabel(\"Sueldo (en $)\")\n",
        "plt.show()"
      ],
      "execution_count": 12,
      "outputs": [
        {
          "output_type": "display_data",
          "data": {
            "image/png": "[encoded data removed]",
            "text/plain": [
              "<Figure size 432x288 with 1 Axes>"
            ]
          },
          "metadata": {
            "needs_background": "light"
          }
        }
      ]
    }
  ]
}